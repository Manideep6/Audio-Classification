{
 "cells": [
  {
   "cell_type": "code",
   "execution_count": 1,
   "id": "70145307",
   "metadata": {},
   "outputs": [
    {
     "name": "stderr",
     "output_type": "stream",
     "text": [
      "C:\\Users\\gogik\\anaconda3\\lib\\site-packages\\paramiko\\transport.py:219: CryptographyDeprecationWarning: Blowfish has been deprecated\n",
      "  \"class\": algorithms.Blowfish,\n"
     ]
    }
   ],
   "source": [
    "import os\n",
    "import pandas as pd\n",
    "import numpy as np\n",
    "import matplotlib.pyplot as plt\n",
    "import librosa\n",
    "import librosa.display\n",
    "import IPython.display as ipd\n",
    "from sklearn.model_selection import train_test_split\n",
    "import tensorflow as tf\n",
    "from keras.models import Sequential\n",
    "from keras.layers import Conv2D,MaxPooling2D,Flatten,Dense\n",
    "from keras.layers import Dropout, Activation\n",
    "import tensorflow.keras.models as models\n",
    "import tensorflow.keras.layers as layers\n",
    "from tensorflow import keras\n",
    "import cv2\n",
    "import speech_recognition\n",
    "import python_speech_features"
   ]
  },
  {
   "cell_type": "code",
   "execution_count": 16,
   "id": "917d4439",
   "metadata": {},
   "outputs": [
    {
     "name": "stdout",
     "output_type": "stream",
     "text": [
      "Collecting python-engineio\n",
      "  Downloading python_engineio-4.3.4-py3-none-any.whl (52 kB)\n",
      "     ---------------------------------------- 52.9/52.9 kB ? eta 0:00:00\n",
      "Installing collected packages: python-engineio\n",
      "Successfully installed python-engineio-4.3.4\n"
     ]
    }
   ],
   "source": [
    "#!pip install ffmpeg\n",
    "#!pip install SpeechRecognition\n",
    "#!pip install pyttsx3\n",
    "#!pip install engine\n",
    "!pip install python-engineio\n"
   ]
  },
  {
   "cell_type": "code",
   "execution_count": 2,
   "id": "f4463ce6",
   "metadata": {},
   "outputs": [],
   "source": [
    "dataset = []\n",
    "classes = []\n",
    "up_width = 120\n",
    "up_height = 40\n",
    "dictn = {'Ch':0,'Ma':1,'Na':2,'Sh':3,'sa':4,'B':5,'K':6}\n",
    "for i,j in dictn.items():\n",
    "  for filename in os.listdir(f'C:/Users/gogik/Downloads/Akshar audio dataset/{i}'):\n",
    "    song = f'C:/Users/gogik/Downloads/Akshar audio dataset/{i}/{filename}'\n",
    "    for index in range(2):\n",
    "      audio,sr = librosa.load(song,res_type='kaiser_fast')\n",
    "      mfcc_features = librosa.feature.mfcc(y=audio,sr=sr,n_mfcc =50)\n",
    "      feature_class = i\n",
    "      up_points = (up_width, up_height)\n",
    "      X = cv2.resize(mfcc_features, up_points, interpolation= cv2.INTER_CUBIC)\n",
    "      dataset.append(X)\n",
    "      classes.append(feature_class)"
   ]
  },
  {
   "cell_type": "raw",
   "id": "41e11587",
   "metadata": {},
   "source": [
    "dataset = []\n",
    "classes = []\n",
    "up_width = 128\n",
    "up_height = 40\n",
    "dictn = {'Ch':0,'Ma':1,'Na':2,'Sh':3,'sa':4,'B':5,'K':6}\n",
    "for i,j in dictn.items():\n",
    "  for filename in os.listdir(f'C:/Users/gogik/Downloads/Akshar audio dataset/{i}'):\n",
    "    song = f'C:/Users/gogik/Downloads/Akshar audio dataset/{i}/{filename}'\n",
    "    for index in range(2):\n",
    "      audio,sr = librosa.load(song,res_type='kaiser_fast')\n",
    "      mfccs = python_speech_features.mfcc(audio,samplerate=16000,winlen=0.25,winstep=0.01,numcep=7,nfilt=26,nfft=8000,lowfreq=0,highfreq=None,preemph=0.97,ceplifter=22,appendEnergy=True,\n",
    "      winfunc=lambda x:np.ones((x,)))\n",
    "      mfcc_means = np.round(mfccs.mean(axis=0), 3)\n",
    "      feature_class = i\n",
    "      up_points = (up_width, up_height)\n",
    "      X = cv2.resize(mfcc_means, up_points, interpolation= cv2.INTER_LINEAR)\n",
    "      dataset.append(X)\n",
    "      classes.append(feature_class) "
   ]
  },
  {
   "cell_type": "code",
   "execution_count": 3,
   "id": "44318ac7",
   "metadata": {},
   "outputs": [
    {
     "data": {
      "text/html": [
       "<div>\n",
       "<style scoped>\n",
       "    .dataframe tbody tr th:only-of-type {\n",
       "        vertical-align: middle;\n",
       "    }\n",
       "\n",
       "    .dataframe tbody tr th {\n",
       "        vertical-align: top;\n",
       "    }\n",
       "\n",
       "    .dataframe thead th {\n",
       "        text-align: right;\n",
       "    }\n",
       "</style>\n",
       "<table border=\"1\" class=\"dataframe\">\n",
       "  <thead>\n",
       "    <tr style=\"text-align: right;\">\n",
       "      <th></th>\n",
       "      <th>Features</th>\n",
       "      <th>Class</th>\n",
       "    </tr>\n",
       "  </thead>\n",
       "  <tbody>\n",
       "    <tr>\n",
       "      <th>0</th>\n",
       "      <td>[[-691.0191, -602.2739, -306.2576, -119.29395,...</td>\n",
       "      <td>Ch</td>\n",
       "    </tr>\n",
       "    <tr>\n",
       "      <th>1</th>\n",
       "      <td>[[-691.0191, -602.2739, -306.2576, -119.29395,...</td>\n",
       "      <td>Ch</td>\n",
       "    </tr>\n",
       "    <tr>\n",
       "      <th>2</th>\n",
       "      <td>[[-625.44684, -611.21826, -575.42096, -410.461...</td>\n",
       "      <td>Ch</td>\n",
       "    </tr>\n",
       "    <tr>\n",
       "      <th>3</th>\n",
       "      <td>[[-625.44684, -611.21826, -575.42096, -410.461...</td>\n",
       "      <td>Ch</td>\n",
       "    </tr>\n",
       "    <tr>\n",
       "      <th>4</th>\n",
       "      <td>[[-621.8084, -567.36804, -242.5147, -159.48584...</td>\n",
       "      <td>Ch</td>\n",
       "    </tr>\n",
       "  </tbody>\n",
       "</table>\n",
       "</div>"
      ],
      "text/plain": [
       "                                            Features Class\n",
       "0  [[-691.0191, -602.2739, -306.2576, -119.29395,...    Ch\n",
       "1  [[-691.0191, -602.2739, -306.2576, -119.29395,...    Ch\n",
       "2  [[-625.44684, -611.21826, -575.42096, -410.461...    Ch\n",
       "3  [[-625.44684, -611.21826, -575.42096, -410.461...    Ch\n",
       "4  [[-621.8084, -567.36804, -242.5147, -159.48584...    Ch"
      ]
     },
     "execution_count": 3,
     "metadata": {},
     "output_type": "execute_result"
    }
   ],
   "source": [
    "df = {'Features':dataset,'Class':classes}\n",
    "extracted_features_df = pd.DataFrame(df)\n",
    "extracted_features_df.head()"
   ]
  },
  {
   "cell_type": "code",
   "execution_count": 4,
   "id": "4cc9323f",
   "metadata": {},
   "outputs": [],
   "source": [
    "x=np.array(extracted_features_df['Features'].tolist())\n",
    "y=np.array(extracted_features_df['Class'].tolist())"
   ]
  },
  {
   "cell_type": "code",
   "execution_count": 5,
   "id": "7d3ae4c6",
   "metadata": {},
   "outputs": [
    {
     "data": {
      "text/plain": [
       "((14822, 40, 120), (14822,))"
      ]
     },
     "execution_count": 5,
     "metadata": {},
     "output_type": "execute_result"
    }
   ],
   "source": [
    "x.shape,y.shape"
   ]
  },
  {
   "cell_type": "code",
   "execution_count": 6,
   "id": "89f28baa",
   "metadata": {},
   "outputs": [],
   "source": [
    "from tensorflow.keras.utils import to_categorical\n",
    "from sklearn.preprocessing import LabelEncoder\n",
    "labelencoder=LabelEncoder()\n",
    "x = x.reshape(x.shape[0], x.shape[1], x.shape[2], 1)\n",
    "y=to_categorical(labelencoder.fit_transform(y))"
   ]
  },
  {
   "cell_type": "code",
   "execution_count": 7,
   "id": "116da501",
   "metadata": {},
   "outputs": [
    {
     "data": {
      "text/plain": [
       "((14822, 40, 120, 1), (14822, 7))"
      ]
     },
     "execution_count": 7,
     "metadata": {},
     "output_type": "execute_result"
    }
   ],
   "source": [
    "x.shape,y.shape"
   ]
  },
  {
   "cell_type": "code",
   "execution_count": 8,
   "id": "9e97eba8",
   "metadata": {},
   "outputs": [],
   "source": [
    "x_train,x_test,y_train,y_test = train_test_split(x,y,test_size=0.2,random_state=20)"
   ]
  },
  {
   "cell_type": "code",
   "execution_count": 9,
   "id": "d8452e0a",
   "metadata": {},
   "outputs": [],
   "source": [
    "x_train = tf.expand_dims(x_train, axis=-1)"
   ]
  },
  {
   "cell_type": "code",
   "execution_count": 10,
   "id": "4f650e37",
   "metadata": {},
   "outputs": [],
   "source": [
    "ip=(40,120,1)"
   ]
  },
  {
   "cell_type": "code",
   "execution_count": 11,
   "id": "343a0e32",
   "metadata": {},
   "outputs": [
    {
     "name": "stdout",
     "output_type": "stream",
     "text": [
      "Model: \"sequential\"\n",
      "_________________________________________________________________\n",
      " Layer (type)                Output Shape              Param #   \n",
      "=================================================================\n",
      " conv2d (Conv2D)             (None, 38, 118, 32)       320       \n",
      "                                                                 \n",
      " max_pooling2d (MaxPooling2D  (None, 19, 59, 32)       0         \n",
      " )                                                               \n",
      "                                                                 \n",
      " dropout (Dropout)           (None, 19, 59, 32)        0         \n",
      "                                                                 \n",
      " conv2d_1 (Conv2D)           (None, 17, 57, 64)        18496     \n",
      "                                                                 \n",
      " max_pooling2d_1 (MaxPooling  (None, 8, 28, 64)        0         \n",
      " 2D)                                                             \n",
      "                                                                 \n",
      " dropout_1 (Dropout)         (None, 8, 28, 64)         0         \n",
      "                                                                 \n",
      " flatten (Flatten)           (None, 14336)             0         \n",
      "                                                                 \n",
      " dense (Dense)               (None, 64)                917568    \n",
      "                                                                 \n",
      " dropout_2 (Dropout)         (None, 64)                0         \n",
      "                                                                 \n",
      " dense_1 (Dense)             (None, 32)                2080      \n",
      "                                                                 \n",
      " dense_2 (Dense)             (None, 7)                 231       \n",
      "                                                                 \n",
      "=================================================================\n",
      "Total params: 938,695\n",
      "Trainable params: 938,695\n",
      "Non-trainable params: 0\n",
      "_________________________________________________________________\n"
     ]
    }
   ],
   "source": [
    "model = models.Sequential()\n",
    "model.add(layers.Conv2D(32, (3, 3), activation='relu', input_shape=ip))\n",
    "model.add(layers.MaxPooling2D((2, 2)))\n",
    "model.add(layers.Dropout(0.2))\n",
    "model.add(layers.Conv2D(64, (3, 3), activation='relu'))\n",
    "model.add(layers.MaxPooling2D((2, 2)))\n",
    "model.add(layers.Dropout(0.2))\n",
    "model.add(layers.Flatten())\n",
    "model.add(layers.Dense(64, activation='relu'))\n",
    "model.add(layers.Dropout(0.2))\n",
    "model.add(layers.Dense(32, activation='relu'))\n",
    "model.add(layers.Dense(7, activation='softmax'))\n",
    "opt = keras.optimizers.Adam(learning_rate = 0.001)\n",
    "model.compile(loss = \"categorical_crossentropy\", optimizer = opt, metrics = 'acc')\n",
    "model.summary()"
   ]
  },
  {
   "cell_type": "code",
   "execution_count": 12,
   "id": "d33a7edd",
   "metadata": {},
   "outputs": [
    {
     "name": "stdout",
     "output_type": "stream",
     "text": [
      "Epoch 1/15\n",
      "371/371 [==============================] - 48s 127ms/step - loss: 1.9973 - acc: 0.2872 - val_loss: 1.4332 - val_acc: 0.4712\n",
      "Epoch 2/15\n",
      "371/371 [==============================] - 47s 126ms/step - loss: 1.2559 - acc: 0.5191 - val_loss: 0.8381 - val_acc: 0.7157\n",
      "Epoch 3/15\n",
      "371/371 [==============================] - 44s 119ms/step - loss: 0.8586 - acc: 0.6735 - val_loss: 0.5687 - val_acc: 0.8064\n",
      "Epoch 4/15\n",
      "371/371 [==============================] - 45s 120ms/step - loss: 0.6299 - acc: 0.7639 - val_loss: 0.4447 - val_acc: 0.8438\n",
      "Epoch 5/15\n",
      "371/371 [==============================] - 46s 123ms/step - loss: 0.5035 - acc: 0.8113 - val_loss: 0.3722 - val_acc: 0.8728\n",
      "Epoch 6/15\n",
      "371/371 [==============================] - 45s 120ms/step - loss: 0.4182 - acc: 0.8468 - val_loss: 0.2789 - val_acc: 0.9069\n",
      "Epoch 7/15\n",
      "371/371 [==============================] - 43s 116ms/step - loss: 0.3524 - acc: 0.8689 - val_loss: 0.2259 - val_acc: 0.9234\n",
      "Epoch 8/15\n",
      "371/371 [==============================] - 45s 122ms/step - loss: 0.2995 - acc: 0.8899 - val_loss: 0.2087 - val_acc: 0.9255\n",
      "Epoch 9/15\n",
      "371/371 [==============================] - 45s 121ms/step - loss: 0.2793 - acc: 0.9017 - val_loss: 0.2101 - val_acc: 0.9376\n",
      "Epoch 10/15\n",
      "371/371 [==============================] - 50s 133ms/step - loss: 0.2389 - acc: 0.9159 - val_loss: 0.1707 - val_acc: 0.9548\n",
      "Epoch 11/15\n",
      "371/371 [==============================] - 42s 114ms/step - loss: 0.2265 - acc: 0.9193 - val_loss: 0.1659 - val_acc: 0.9568\n",
      "Epoch 12/15\n",
      "371/371 [==============================] - 49s 131ms/step - loss: 0.2044 - acc: 0.9269 - val_loss: 0.1726 - val_acc: 0.9470\n",
      "Epoch 13/15\n",
      "371/371 [==============================] - 49s 132ms/step - loss: 0.1972 - acc: 0.9313 - val_loss: 0.1558 - val_acc: 0.9562\n",
      "Epoch 14/15\n",
      "371/371 [==============================] - 54s 145ms/step - loss: 0.1903 - acc: 0.9326 - val_loss: 0.1324 - val_acc: 0.9686\n",
      "Epoch 15/15\n",
      "371/371 [==============================] - 49s 132ms/step - loss: 0.1824 - acc: 0.9379 - val_loss: 0.1505 - val_acc: 0.9642\n"
     ]
    }
   ],
   "source": [
    "batch_size = 32\n",
    "callback = tf.keras.callbacks.EarlyStopping(\n",
    "    monitor='val_loss', min_delta=0, patience=8, verbose=0, mode='auto',\n",
    "    baseline=None, restore_best_weights=False)\n",
    "\n",
    "history = model.fit(x_train,y_train ,\n",
    "            validation_data=(x_test,y_test),\n",
    "            epochs=15,\n",
    "            callbacks = [callback],batch_size=batch_size)"
   ]
  },
  {
   "cell_type": "code",
   "execution_count": 13,
   "id": "a0123ac1",
   "metadata": {},
   "outputs": [
    {
     "data": {
      "image/png": "[encoded data removed]",
      "text/plain": [
       "<Figure size 640x480 with 1 Axes>"
      ]
     },
     "metadata": {},
     "output_type": "display_data"
    },
    {
     "data": {
      "image/png": "[encoded data removed]",
      "text/plain": [
       "<Figure size 640x480 with 1 Axes>"
      ]
     },
     "metadata": {},
     "output_type": "display_data"
    }
   ],
   "source": [
    "import matplotlib.pyplot as plt\n",
    "plt.plot(history.history['acc'])\n",
    "plt.plot(history.history['val_acc'])\n",
    "plt.title('model accuracy')\n",
    "plt.ylabel('accuracy')\n",
    "plt.xlabel('epoch')\n",
    "plt.legend(['train', 'validation'], loc='upper left')\n",
    "plt.show()\n",
    "\n",
    "\n",
    "plt.plot(history.history['loss'])\n",
    "plt.plot(history.history['val_loss'])\n",
    "plt.title('model loss')\n",
    "plt.ylabel('loss')\n",
    "plt.xlabel('epoch')\n",
    "plt.legend(['train', 'validation'], loc='upper left')\n",
    "plt.show()"
   ]
  },
  {
   "cell_type": "code",
   "execution_count": 14,
   "id": "be975bf2",
   "metadata": {},
   "outputs": [
    {
     "name": "stdout",
     "output_type": "stream",
     "text": [
      "0.9642495512962341\n"
     ]
    }
   ],
   "source": [
    "test_accuracy=model.evaluate(x_test,y_test,verbose=0)\n",
    "print(test_accuracy[1])"
   ]
  },
  {
   "cell_type": "code",
   "execution_count": 15,
   "id": "b92bc4a8",
   "metadata": {},
   "outputs": [
    {
     "name": "stdout",
     "output_type": "stream",
     "text": [
      "93/93 [==============================] - 2s 24ms/step\n",
      "93/93 [==============================] - 4s 40ms/step - loss: 0.1505 - acc: 0.9642\n"
     ]
    },
    {
     "data": {
      "text/plain": [
       "[0.15047882497310638, 0.9642495512962341]"
      ]
     },
     "execution_count": 15,
     "metadata": {},
     "output_type": "execute_result"
    }
   ],
   "source": [
    "y_pred = model.predict(x_test)\n",
    "y_pred = (y_pred>0.5)\n",
    "score = model.evaluate(x_test,y_test)\n",
    "score"
   ]
  },
  {
   "cell_type": "code",
   "execution_count": 17,
   "id": "c0c2c1a5",
   "metadata": {},
   "outputs": [],
   "source": [
    "import librosa\n",
    "import cv2\n",
    "mydict= {'Ch': 0, 'Ma': 1, 'Na': 2, 'Sa': 3, 'Sh': 4,'K':5,'B':6}\n",
    "audio_path=\"C:/Users/gogik/Downloads/Akshar audio dataset/K/762.wav\"\n",
    "audio,sr=librosa.load(audio_path,res_type='kaiser_fast')\n",
    "mfcc_features = np.mean(librosa.feature.mfcc(y=audio,sr=sr,n_mfcc =40).T,axis=0)\n",
    "X=[]\n",
    "up_width = 120\n",
    "up_height = 40\n",
    "up_points = (up_width, up_height)\n",
    "x = cv2.resize(mfcc_features, up_points, interpolation= cv2.INTER_LINEAR)\n",
    "X.append(mfcc_features)"
   ]
  },
  {
   "cell_type": "code",
   "execution_count": 16,
   "id": "a85b4507",
   "metadata": {},
   "outputs": [],
   "source": [
    "model.save('Akshar_model.h5')"
   ]
  },
  {
   "cell_type": "code",
   "execution_count": 17,
   "id": "ca9e4edf",
   "metadata": {},
   "outputs": [],
   "source": [
    "from tensorflow.keras.models import load_model\n",
    "modelAkshar=load_model('Akshar_model.h5')"
   ]
  },
  {
   "cell_type": "code",
   "execution_count": 18,
   "id": "8bdb0b96",
   "metadata": {},
   "outputs": [
    {
     "name": "stdout",
     "output_type": "stream",
     "text": [
      "Model: \"sequential\"\n",
      "_________________________________________________________________\n",
      " Layer (type)                Output Shape              Param #   \n",
      "=================================================================\n",
      " conv2d (Conv2D)             (None, 38, 118, 32)       320       \n",
      "                                                                 \n",
      " max_pooling2d (MaxPooling2D  (None, 19, 59, 32)       0         \n",
      " )                                                               \n",
      "                                                                 \n",
      " dropout (Dropout)           (None, 19, 59, 32)        0         \n",
      "                                                                 \n",
      " conv2d_1 (Conv2D)           (None, 17, 57, 64)        18496     \n",
      "                                                                 \n",
      " max_pooling2d_1 (MaxPooling  (None, 8, 28, 64)        0         \n",
      " 2D)                                                             \n",
      "                                                                 \n",
      " dropout_1 (Dropout)         (None, 8, 28, 64)         0         \n",
      "                                                                 \n",
      " flatten (Flatten)           (None, 14336)             0         \n",
      "                                                                 \n",
      " dense (Dense)               (None, 64)                917568    \n",
      "                                                                 \n",
      " dropout_2 (Dropout)         (None, 64)                0         \n",
      "                                                                 \n",
      " dense_1 (Dense)             (None, 32)                2080      \n",
      "                                                                 \n",
      " dense_2 (Dense)             (None, 7)                 231       \n",
      "                                                                 \n",
      "=================================================================\n",
      "Total params: 938,695\n",
      "Trainable params: 938,695\n",
      "Non-trainable params: 0\n",
      "_________________________________________________________________\n"
     ]
    }
   ],
   "source": [
    "modelAkshar.summary()"
   ]
  },
  {
   "cell_type": "code",
   "execution_count": 19,
   "id": "027f96b0",
   "metadata": {},
   "outputs": [
    {
     "name": "stdout",
     "output_type": "stream",
     "text": [
      "93/93 [==============================] - 2s 23ms/step - loss: 0.1505 - acc: 0.9642\n"
     ]
    }
   ],
   "source": [
    "loss,accuracy=modelAkshar.evaluate(x_test,y_test,verbose=1)"
   ]
  },
  {
   "cell_type": "code",
   "execution_count": 20,
   "id": "94bdf14c",
   "metadata": {},
   "outputs": [
    {
     "name": "stderr",
     "output_type": "stream",
     "text": [
      "WARNING:absl:Found untraced functions such as _jit_compiled_convolution_op, _jit_compiled_convolution_op, _update_step_xla while saving (showing 3 of 3). These functions will not be directly callable after loading.\n"
     ]
    },
    {
     "name": "stdout",
     "output_type": "stream",
     "text": [
      "INFO:tensorflow:Assets written to: C:\\Users\\gogik\\AppData\\Local\\Temp\\tmp9eysgwl6\\assets\n"
     ]
    },
    {
     "name": "stderr",
     "output_type": "stream",
     "text": [
      "INFO:tensorflow:Assets written to: C:\\Users\\gogik\\AppData\\Local\\Temp\\tmp9eysgwl6\\assets\n"
     ]
    },
    {
     "data": {
      "text/plain": [
       "945536"
      ]
     },
     "execution_count": 20,
     "metadata": {},
     "output_type": "execute_result"
    }
   ],
   "source": [
    "converter = tf.lite.TFLiteConverter.from_keras_model(modelAkshar)\n",
    "converter.experimental_new_converter = True\n",
    "converter.optimizations = [tf.lite.Optimize.DEFAULT]\n",
    "tflite_model = converter.convert()\n",
    "open('Akshar_model.tflite','wb').write(tflite_model)"
   ]
  }
 ],
 "metadata": {
  "kernelspec": {
   "display_name": "Python 3 (ipykernel)",
   "language": "python",
   "name": "python3"
  },
  "language_info": {
   "codemirror_mode": {
    "name": "ipython",
    "version": 3
   },
   "file_extension": ".py",
   "mimetype": "text/x-python",
   "name": "python",
   "nbconvert_exporter": "python",
   "pygments_lexer": "ipython3",
   "version": "3.9.13"
  }
 },
 "nbformat": 4,
 "nbformat_minor": 5
}
